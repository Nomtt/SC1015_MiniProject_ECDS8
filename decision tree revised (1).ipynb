{
 "cells": [
  {
   "cell_type": "markdown",
   "id": "70a99e33-51b2-4cda-ab1c-9ade54b8e615",
   "metadata": {},
   "source": [
    "### Disclaimer: \n",
    "Please note that due to shuffling in an earlier stage, the accuracy rates may vary slightly from those presented in our initial presentation and our main complete codebase. We have taken steps to minimize such discrepancies in the future. We apologize for any inconsistencies."
   ]
  },
  {
   "cell_type": "markdown",
   "id": "2b4624e6-0a5f-4157-8c3c-441892ccef7d",
   "metadata": {},
   "source": [
    "# Part 4: Decision Tree Classification"
   ]
  },
  {
   "cell_type": "markdown",
   "id": "0492f69d-b63c-4b0e-b2b4-0faa1219be94",
   "metadata": {},
   "source": [
    "We first used __Decision Tree Classifier__ on each of the four train/test data sets we have initialized above. In the following way, we will determine accuracies and demonstrate the confusion matrix and decision tree upon concluding this section."
   ]
  },
  {
   "cell_type": "markdown",
   "id": "ccecd028",
   "metadata": {},
   "source": [
    "### Importing libraries and datasets"
   ]
  },
  {
   "cell_type": "code",
   "execution_count": null,
   "id": "7a812887-5327-4812-addc-64e7c81c529a",
   "metadata": {},
   "outputs": [],
   "source": [
    "# For data processing\n",
    "import numpy as np\n",
    "import pandas as pd\n",
    "import seaborn as sb\n",
    "import matplotlib.pyplot as plt\n",
    "import matplotlib.gridspec as gridspec\n",
    "sb.set(style='whitegrid')\n",
    "\n",
    "# Read feature DataFrames (without the '2' prefix)\n",
    "X_train = pd.read_csv('X1_train.csv')\n",
    "X_test = pd.read_csv('X1_test.csv')\n",
    "X2_train = pd.read_csv('X2_train.csv')\n",
    "X2_test = pd.read_csv('X2_test.csv')\n",
    "X3_train = pd.read_csv('X3_train.csv')\n",
    "X3_test = pd.read_csv('X3_test.csv')\n",
    "X4_train = pd.read_csv('X4_train.csv')\n",
    "X4_test = pd.read_csv('X4_test.csv')\n",
    "\n",
    "# Read target Series\n",
    "y_train = pd.read_csv('y1_train.csv').squeeze()\n",
    "y_test = pd.read_csv('y1_test.csv').squeeze()\n",
    "y2_train = pd.read_csv('y2_train.csv').squeeze()\n",
    "y2_test = pd.read_csv('y2_test.csv').squeeze()\n",
    "y3_train = pd.read_csv('y3_train.csv').squeeze()\n",
    "y3_test = pd.read_csv('y3_test.csv').squeeze()\n",
    "y4_train = pd.read_csv('y4_train.csv').squeeze()\n",
    "y4_test = pd.read_csv('y4_test.csv').squeeze()"
   ]
  },
  {
   "cell_type": "code",
   "execution_count": null,
   "id": "3d972608-1497-453a-9207-37e488bed767",
   "metadata": {},
   "outputs": [],
   "source": [
    "# Decision Tree using Train Data\n",
    "import os\n",
    "print(\"OMP_NUM_THREADS =\", os.environ.get(\"OMP_NUM_THREADS\"))\n",
    "from sklearn.tree import DecisionTreeClassifier\n",
    "from sklearn.metrics import confusion_matrix\n",
    "\n",
    "dectree = DecisionTreeClassifier(max_depth = 4)  # create the decision tree object"
   ]
  },
  {
   "cell_type": "code",
   "execution_count": null,
   "id": "7063f4c3-6c2d-4303-a141-f732bb28cefc",
   "metadata": {},
   "outputs": [],
   "source": [
    "dectree.fit(X_train, y_train)"
   ]
  },
  {
   "cell_type": "markdown",
   "id": "7eff2a43",
   "metadata": {},
   "source": [
    "### 1.1. Decision Tree Classifier for __X_train__ dataset."
   ]
  },
  {
   "cell_type": "code",
   "execution_count": null,
   "id": "d299ac81-6e8c-43d2-adc2-c5764457920b",
   "metadata": {},
   "outputs": [],
   "source": [
    "# Predict Response corresponding to Predictors\n",
    "y_train_pred1 = dectree.predict(X_train)\n",
    "y_test_pred1 = dectree.predict(X_test)\n",
    "\n",
    "# Check the Goodness of Fit (on Train Data)\n",
    "print(\"Goodness of Fit of Model \\tTrain Dataset\")\n",
    "print(\"Classification Accuracy \\t:\", dectree.score(X_train, y_train))\n",
    "print()\n",
    "\n",
    "# Check the Goodness of Fit (on Test Data)\n",
    "print(\"Goodness of Fit of Model \\tTest Dataset\")\n",
    "print(\"Classification Accuracy \\t:\", dectree.score(X_test, y_test))\n",
    "print()\n",
    "\n",
    "# Plot the Confusion Matrix for Train and Test\n",
    "f, axes = plt.subplots(1, 2, figsize=(12, 4))\n",
    "sb.heatmap(confusion_matrix(y_train, y_train_pred1),\n",
    "           annot = True, fmt=\".0f\", annot_kws={\"size\": 18}, ax = axes[0])\n",
    "sb.heatmap(confusion_matrix(y_test, y_test_pred1), \n",
    "           annot = True, fmt=\".0f\", annot_kws={\"size\": 18}, ax = axes[1])\n",
    "\n",
    "from sklearn.metrics import confusion_matrix\n",
    "\n",
    "# Get confusion matrix values for train and test\n",
    "cm_train = confusion_matrix(y_train, y_train_pred1)\n",
    "cm_test = confusion_matrix(y_test, y_test_pred1)\n",
    "\n",
    "def print_rates(cm, dataset_name=\"\"):\n",
    "    TN, FP, FN, TP = cm.ravel()\n",
    "\n",
    "    FNR = FN / (FN + TP) if (FN + TP) != 0 else 0\n",
    "    FPR = FP / (FP + TN) if (FP + TN) != 0 else 0\n",
    "    TPR = TP / (TP + FN) if (TP + FN) != 0 else 0\n",
    "    TNR = TN / (TN + FP) if (TN + FP) != 0 else 0\n",
    "\n",
    "    print(f\"Rates for {dataset_name} Dataset:\")\n",
    "    print(f\"False Negative Rate (FNR): {FNR:.4f}\")\n",
    "    print(f\"False Positive Rate (FPR): {FPR:.4f}\")\n",
    "    print(f\"True Positive Rate (TPR / Recall): {TPR:.4f}\")\n",
    "    print(f\"True Negative Rate (TNR / Specificity): {TNR:.4f}\")\n",
    "    print()\n",
    "\n",
    "# Print rates for both train and test\n",
    "print_rates(cm_train, \"Train\")\n",
    "print_rates(cm_test, \"Test\")\n"
   ]
  },
  {
   "cell_type": "code",
   "execution_count": null,
   "id": "7ec91f4b-f3b9-44e9-8e9b-4155c1434a30",
   "metadata": {},
   "outputs": [],
   "source": [
    "from sklearn.tree import plot_tree\n",
    "\n",
    "f = plt.figure(figsize=(30,15))\n",
    "plot_tree(dectree, filled=True, rounded=True, \n",
    "          feature_names=X_train.columns, \n",
    "          class_names=[\"Age\", \"Gender\", \"Smoking History\"])"
   ]
  },
  {
   "cell_type": "markdown",
   "id": "ea9e6e3c",
   "metadata": {},
   "source": [
    "### 1.2. Decision Tree Classifier for __X2_train__ dataset."
   ]
  },
  {
   "cell_type": "code",
   "execution_count": null,
   "id": "6a884c46-8dcb-4dd0-8882-3d34217f3a7b",
   "metadata": {},
   "outputs": [],
   "source": [
    "dectree2 = DecisionTreeClassifier(max_depth = 4)\n",
    "dectree2.fit(X2_train, y2_train)"
   ]
  },
  {
   "cell_type": "code",
   "execution_count": null,
   "id": "e907b61a-ec83-4ee9-87fe-44e90ce2fe83",
   "metadata": {},
   "outputs": [],
   "source": [
    "from sklearn.tree import plot_tree\n",
    "\n",
    "f = plt.figure(figsize=(40,12))\n",
    "plot_tree(dectree2, filled=True, rounded=True, \n",
    "          feature_names=X2_train.columns, \n",
    "          class_names=[\"Age\", \"Gender\", \"Currently Smoking\", \"Smoking History\", \"Adenopathy\"])\n"
   ]
  },
  {
   "cell_type": "code",
   "execution_count": null,
   "id": "92a344ad-1263-4594-a3d6-c4a860a8926b",
   "metadata": {},
   "outputs": [],
   "source": [
    "# Predict Response corresponding to Predictors\n",
    "y_train_pred2 = dectree2.predict(X2_train)\n",
    "y_test_pred2 = dectree2.predict(X2_test)\n",
    "\n",
    "# Check the Goodness of Fit (on Train Data)\n",
    "print(\"Goodness of Fit of Model \\tTrain Dataset\")\n",
    "print(\"Classification Accuracy \\t:\", dectree2.score(X2_train, y2_train))\n",
    "print()\n",
    "\n",
    "# Check the Goodness of Fit (on Test Data)\n",
    "print(\"Goodness of Fit of Model \\tTest Dataset\")\n",
    "print(\"Classification Accuracy \\t:\", dectree2.score(X2_test, y2_test))\n",
    "print()\n",
    "\n",
    "# Plot the Confusion Matrix for Train and Test\n",
    "f, axes = plt.subplots(1, 2, figsize=(12, 4))\n",
    "sb.heatmap(confusion_matrix(y2_train, y_train_pred2),\n",
    "           annot = True, fmt=\".0f\", annot_kws={\"size\": 18}, ax = axes[0])\n",
    "sb.heatmap(confusion_matrix(y2_test, y_test_pred2), \n",
    "           annot = True, fmt=\".0f\", annot_kws={\"size\": 18}, ax = axes[1])\n",
    "\n",
    "from sklearn.metrics import confusion_matrix\n",
    "\n",
    "# Get confusion matrix values for train and test\n",
    "cm_train2 = confusion_matrix(y2_train, y_train_pred2)\n",
    "cm_test2 = confusion_matrix(y2_test, y_test_pred2)\n",
    "\n",
    "# Print rates for both train and test\n",
    "print_rates(cm_train2, \"Train\")\n",
    "print_rates(cm_test2, \"Test\")\n"
   ]
  },
  {
   "cell_type": "markdown",
   "id": "56af7f2c",
   "metadata": {},
   "source": [
    "### 1.3. Decision Tree Classifier for __X3_train__ dataset."
   ]
  },
  {
   "cell_type": "code",
   "execution_count": null,
   "id": "06eae121-3884-4603-9a42-8067a5db5866",
   "metadata": {},
   "outputs": [],
   "source": [
    "dectree3 = DecisionTreeClassifier(max_depth = 4)\n",
    "dectree3.fit(X3_train, y3_train)"
   ]
  },
  {
   "cell_type": "code",
   "execution_count": null,
   "id": "0131467e-0d1f-462c-acbe-85b9a0065b52",
   "metadata": {},
   "outputs": [],
   "source": [
    "from sklearn.tree import plot_tree\n",
    "\n",
    "f = plt.figure(figsize=(40,12))\n",
    "plot_tree(dectree3, filled=True, rounded=True, \n",
    "          feature_names=X3_train.columns, \n",
    "          class_names=[\"Age\", \"Gender\", \"Currently Smoking\", \"Smoking History\", \"Adenopathy\", \"Risk\", \"Treatment Response\"])"
   ]
  },
  {
   "cell_type": "code",
   "execution_count": null,
   "id": "4afc5839-9859-4ea0-b728-88f8e668ef9f",
   "metadata": {},
   "outputs": [],
   "source": [
    "# Predict Response corresponding to Predictors\n",
    "y_train_pred3 = dectree3.predict(X3_train)\n",
    "y_test_pred3 = dectree3.predict(X3_test)\n",
    "\n",
    "# Check the Goodness of Fit (on Train Data)\n",
    "print(\"Goodness of Fit of Model \\tTrain Dataset\")\n",
    "print(\"Classification Accuracy \\t:\", dectree3.score(X3_train, y3_train))\n",
    "print()\n",
    "\n",
    "# Check the Goodness of Fit (on Test Data)\n",
    "print(\"Goodness of Fit of Model \\tTest Dataset\")\n",
    "print(\"Classification Accuracy \\t:\", dectree3.score(X3_test, y3_test))\n",
    "print()\n",
    "\n",
    "# Plot the Confusion Matrix for Train and Test\n",
    "f, axes = plt.subplots(1, 2, figsize=(12, 4))\n",
    "sb.heatmap(confusion_matrix(y3_train, y_train_pred3),\n",
    "           annot = True, fmt=\".0f\", annot_kws={\"size\": 18}, ax = axes[0])\n",
    "sb.heatmap(confusion_matrix(y3_test, y_test_pred3), \n",
    "           annot = True, fmt=\".0f\", annot_kws={\"size\": 18}, ax = axes[1])\n",
    "\n",
    "# Get confusion matrix values for train and test\n",
    "cm_train3 = confusion_matrix(y3_train, y_train_pred3)\n",
    "cm_test3 = confusion_matrix(y3_test, y_test_pred3)\n",
    "\n",
    "# Print rates for both train and test\n",
    "print_rates(cm_train3, \"Train\")\n",
    "print_rates(cm_test3, \"Test\")"
   ]
  },
  {
   "cell_type": "markdown",
   "id": "4212673f",
   "metadata": {},
   "source": [
    "### 1.4. Decision Tree Classifier for __X4_train__ dataset."
   ]
  },
  {
   "cell_type": "code",
   "execution_count": null,
   "id": "241452a4-3fe0-479a-860a-867b7c021a47",
   "metadata": {},
   "outputs": [],
   "source": [
    "dectree4 = DecisionTreeClassifier(max_depth = 4)\n",
    "dectree4.fit(X4_train, y4_train)"
   ]
  },
  {
   "cell_type": "code",
   "execution_count": null,
   "id": "10c42f02-8904-49b6-9fa6-cbf659180151",
   "metadata": {},
   "outputs": [],
   "source": [
    "from sklearn.tree import plot_tree\n",
    "\n",
    "f = plt.figure(figsize=(40,12))\n",
    "plot_tree(dectree4, filled=True, rounded=True, \n",
    "          feature_names=X4_train.columns, \n",
    "          class_names=[\"Age\", \"Gender\", \"Currently Smoking\", \"Smoking History\", \"Radiotherapy History\", \"Thyroid Function\", \"Physical Examination\", \"Adenopathy\", \n",
    "                    \"Types of Thyroid Cancer (Pathology)\", \"Focality\", \"Risk\", \"Tumor\", \n",
    "                    \"Lymph Nodes\", \"Cancer Metastasis\", \"Stage\", \"Treatment Response\"])"
   ]
  },
  {
   "cell_type": "code",
   "execution_count": null,
   "id": "36ebdc47-e38c-4976-bb33-dd981e8caba5",
   "metadata": {
    "scrolled": true
   },
   "outputs": [],
   "source": [
    "# Predict Response corresponding to Predictors\n",
    "y_train_pred4 = dectree4.predict(X4_train)\n",
    "y_test_pred4 = dectree4.predict(X4_test)\n",
    "\n",
    "# Check the Goodness of Fit (on Train Data)\n",
    "print(\"Goodness of Fit of Model \\tTrain Dataset\")\n",
    "print(\"Classification Accuracy \\t:\", dectree4.score(X4_train, y4_train))\n",
    "print()\n",
    "\n",
    "# Check the Goodness of Fit (on Test Data)\n",
    "print(\"Goodness of Fit of Model \\tTest Dataset\")\n",
    "print(\"Classification Accuracy \\t:\", dectree4.score(X4_test, y4_test))\n",
    "print()\n",
    "\n",
    "# Plot the Confusion Matrix for Train and Test\n",
    "f, axes = plt.subplots(1, 2, figsize=(12, 4))\n",
    "sb.heatmap(confusion_matrix(y4_train, y_train_pred4),\n",
    "           annot = True, fmt=\".0f\", annot_kws={\"size\": 18}, ax = axes[0])\n",
    "sb.heatmap(confusion_matrix(y4_test, y_test_pred4), \n",
    "           annot = True, fmt=\".0f\", annot_kws={\"size\": 18}, ax = axes[1])\n",
    "\n",
    "# Get confusion matrix values for train and test\n",
    "cm_train4 = confusion_matrix(y4_train, y_train_pred4)\n",
    "cm_test4 = confusion_matrix(y4_test, y_test_pred4)\n",
    "\n",
    "# Print rates for both train and test\n",
    "print_rates(cm_train4, \"Train\")\n",
    "print_rates(cm_test4, \"Test\")"
   ]
  },
  {
   "cell_type": "markdown",
   "id": "f3e666c0",
   "metadata": {},
   "source": [
    "### Test Set Performance Summary\r\n",
    "\r\n",
    "| Metric                              | X1 Test | X2 Test | X3 Test | X4 Test |\r\n",
    "|-------------------------------------|---------|---------|---------|---------|\r\n",
    "| **Classification Accuracy**         | 0.7604  | 0.8229  | 0.9271  | 0.9167  |\r\n",
    "| **False Negative Rate (FNR)**       | 0.8000  | 0.4231  | 0.1154  | 0.2333  |\r\n",
    "| **False Positive Rate (FPR)**       | 0.0423  | 0.0857  | 0.0571  | 0.0152  |\r\n",
    "| **True Positive Rate (TPR/Recall)** | 0.2000  | 0.5769  | 0.8846  | 0.7667  |\r\n",
    "| **True Negative Rate (TNR)**        | 0.9577  | 0.9143  | 0.9429  | 09848  |\r\n"
   ]
  },
  {
   "cell_type": "markdown",
   "id": "4bdefb99",
   "metadata": {},
   "source": [
    "Test accuracy ranges from __76.04% to 92.71%__. Models trained on __X3 (92.71%)__ and __X4 (91.67%)__ clearly outperform the others, showing __significantly lower FNRs__ (11.54% and 23.33%) and the __lowest FPRs__ — particularly X4 with just 1.52%. Both models also achieve high recall (88.46% and 76.67%) and excellent specificity, with X4 achieving the highest TNR of 98.48%. These results make X3 and X4 the __most accurate and reliable models__ in the group.\n"
   ]
  }
 ],
 "metadata": {
  "kernelspec": {
   "display_name": "Python 3 (ipykernel)",
   "language": "python",
   "name": "python3"
  },
  "language_info": {
   "codemirror_mode": {
    "name": "ipython",
    "version": 3
   },
   "file_extension": ".py",
   "mimetype": "text/x-python",
   "name": "python",
   "nbconvert_exporter": "python",
   "pygments_lexer": "ipython3",
   "version": "3.12.4"
  }
 },
 "nbformat": 4,
 "nbformat_minor": 5
}
